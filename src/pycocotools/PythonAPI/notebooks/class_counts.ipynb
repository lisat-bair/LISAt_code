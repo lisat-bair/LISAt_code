{
 "cells": [
  {
   "cell_type": "code",
   "execution_count": null,
   "metadata": {},
   "outputs": [],
   "source": [
    "%matplotlib inline\n",
    "%load_ext autoreload\n",
    "%autoreload 2"
   ]
  },
  {
   "cell_type": "code",
   "execution_count": null,
   "metadata": {},
   "outputs": [],
   "source": [
    "import argparse\n",
    "import csv\n",
    "import decimal\n",
    "import json\n",
    "import typing\n",
    "from collections import Counter\n",
    "from dataclasses import dataclass\n",
    "from typing import Dict, List, Set, Tuple\n",
    "\n",
    "import matplotlib.pyplot as plt\n",
    "import numpy as np\n",
    "import pandas as pd\n",
    "import seaborn as sns\n",
    "from IPython.display import display\n",
    "from pycocotools.coco import COCO\n",
    "from pycocotools.helpers import CocoClassDistHelper\n",
    "from pathlib import Path\n"
   ]
  },
  {
   "cell_type": "code",
   "execution_count": null,
   "metadata": {},
   "outputs": [],
   "source": [
    "dataset_json = Path(\"/shared/gbiamby/data/coco/annotations/instances_train2017.json\")\n",
    "coco = CocoClassDistHelper(dataset_json)\n"
   ]
  },
  {
   "cell_type": "code",
   "execution_count": null,
   "metadata": {},
   "outputs": [],
   "source": [
    "df_counts = (\n",
    "    pd.DataFrame(list(coco.get_cat_counts().values()))\n",
    "    .sort_values(\"ann_count\", ascending=False)\n",
    "    .reset_index(drop=True)\n",
    ")\n",
    "total_anns = df_counts.ann_count.sum()\n",
    "df_counts[\"ann_count_pdf\"] = df_counts.ann_count / total_anns\n",
    "df_counts[\"ann_count_cdf\"] = df_counts.ann_count_pdf.cumsum()\n",
    "display(df_counts)\n"
   ]
  },
  {
   "cell_type": "markdown",
   "metadata": {},
   "source": [
    "## Add frequency bins based on annotation count Cumulative Distribution Function"
   ]
  },
  {
   "cell_type": "code",
   "execution_count": null,
   "metadata": {},
   "outputs": [],
   "source": [
    "df_counts[\"freq_bin_2\"] = df_counts.ann_count_cdf.apply(lambda x: \"high\" if x < 0.5 else \"low\")\n",
    "df_counts[\"freq_bin_3\"] = df_counts.ann_count_cdf.apply(\n",
    "    lambda x: \"high\" if x < 0.333 else \"medium\" if x <= 0.667 else \"low\"\n",
    ")\n",
    "display(df_counts)"
   ]
  },
  {
   "cell_type": "code",
   "execution_count": null,
   "metadata": {},
   "outputs": [],
   "source": []
  },
  {
   "cell_type": "code",
   "execution_count": null,
   "metadata": {},
   "outputs": [],
   "source": [
    "plt.figure(figsize=(25, 15))\n",
    "color_map = plt.get_cmap(\"magma\")\n",
    "fig = sns.barplot(\n",
    "    data=df_counts.sort_values([\"img_count\"], ascending=False), x=\"name\", y=\"img_count\", hue=df_counts.freq_bin_3.values\n",
    ")\n",
    "fig.set_xticklabels(fig.get_xticklabels(), rotation=45, horizontalalignment=\"right\")\n",
    "fig.set_title(f\"Per-category Annotated Image Counts\")\n",
    "plt.tight_layout()\n"
   ]
  },
  {
   "cell_type": "code",
   "execution_count": null,
   "metadata": {},
   "outputs": [],
   "source": []
  },
  {
   "cell_type": "code",
   "execution_count": null,
   "metadata": {},
   "outputs": [],
   "source": [
    "plt.figure(figsize=(25, 15))\n",
    "color_map = plt.get_cmap(\"magma\")\n",
    "fig = sns.barplot(\n",
    "    data=df_counts.sort_values([\"ann_count\"], ascending=False), x=\"name\", y=\"ann_count\", hue=\"freq_bin_3\"\n",
    ")\n",
    "fig.set_xticklabels(fig.get_xticklabels(), rotation=45, horizontalalignment=\"right\")\n",
    "fig.set_title(f\"Per-category Annotation Counts\")\n",
    "plt.tight_layout()\n"
   ]
  },
  {
   "cell_type": "code",
   "execution_count": null,
   "metadata": {},
   "outputs": [],
   "source": []
  }
 ],
 "metadata": {
  "kernelspec": {
   "display_name": "Python 3",
   "language": "python",
   "name": "python3"
  },
  "language_info": {
   "codemirror_mode": {
    "name": "ipython",
    "version": 3
   },
   "file_extension": ".py",
   "mimetype": "text/x-python",
   "name": "python",
   "nbconvert_exporter": "python",
   "pygments_lexer": "ipython3",
   "version": "3.9.0"
  }
 },
 "nbformat": 4,
 "nbformat_minor": 4
}
