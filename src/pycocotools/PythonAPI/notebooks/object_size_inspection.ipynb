{
 "cells": [
  {
   "cell_type": "code",
   "execution_count": null,
   "metadata": {},
   "outputs": [],
   "source": [
    "%matplotlib inline\n",
    "%load_ext autoreload\n",
    "%autoreload 2"
   ]
  },
  {
   "cell_type": "markdown",
   "metadata": {},
   "source": [
    "## Imports"
   ]
  },
  {
   "cell_type": "code",
   "execution_count": null,
   "metadata": {},
   "outputs": [],
   "source": [
    "from pathlib import Path\n",
    "\n",
    "import matplotlib.pyplot as plt\n",
    "import numpy as np\n",
    "import pylab\n",
    "from pycocotools.coco import COCO\n",
    "\n",
    "pylab.rcParams[\"figure.figsize\"] = (8.0, 10.0)\n"
   ]
  },
  {
   "cell_type": "markdown",
   "metadata": {},
   "source": [
    "## Configure which dataset to load:"
   ]
  },
  {
   "cell_type": "code",
   "execution_count": null,
   "metadata": {},
   "outputs": [],
   "source": [
    "dataType = \"\"\n",
    "annFile = Path(\"/home/gbiamby/proj/geoscreens/datasets/geoscreens_011/geoscreens_011.json\")\n",
    "\n",
    "print(\"annFile: \", annFile)\n"
   ]
  },
  {
   "cell_type": "markdown",
   "metadata": {},
   "source": [
    "## Load dataset"
   ]
  },
  {
   "cell_type": "code",
   "execution_count": null,
   "metadata": {},
   "outputs": [],
   "source": [
    "coco = COCO(annFile)\n"
   ]
  },
  {
   "cell_type": "markdown",
   "metadata": {},
   "source": [
    "# Output some dataset stats:"
   ]
  },
  {
   "cell_type": "code",
   "execution_count": null,
   "metadata": {},
   "outputs": [],
   "source": [
    "imgs = coco.dataset[\"images\"]\n",
    "anns = coco.dataset[\"annotations\"]\n",
    "imgs_with_anns = coco.imgToAnns.keys()\n",
    "\n",
    "\n",
    "print(\"Total images: \", len(imgs))\n",
    "print(\"Total images with annotations: \", len(coco.imgToAnns.keys()))\n",
    "print(\"Total annotations: \", len(anns))"
   ]
  },
  {
   "cell_type": "markdown",
   "metadata": {},
   "source": [
    "## Annotations per image:"
   ]
  },
  {
   "cell_type": "code",
   "execution_count": null,
   "metadata": {},
   "outputs": [],
   "source": [
    "ann_counts_per_image = [len(anns) for image_id, anns in coco.imgToAnns.items()]\n",
    "max_anns_per_image = int(np.max(ann_counts_per_image))\n",
    "print(\n",
    "    f\"Annotations per image (ignoring images w/o any anns): \"\n",
    "    f\"Avg.: {np.average(ann_counts_per_image)}, \"\n",
    "    f\"Min: {np.min(ann_counts_per_image)}, \"\n",
    "    f\"Max: {max_anns_per_image}\"\n",
    ")\n",
    "\n",
    "# Plot:\n",
    "fig_size, dpi = (20, 15), 80\n",
    "plt.figure(num=None, figsize=fig_size, dpi=dpi, facecolor=\"w\", edgecolor=\"k\")\n",
    "# plt.hist(ann_counts_per_image, bins=list(range(0, max_anns_per_image + 1, min(max_anns_per_image // 5, 25))))\n",
    "plt.hist(ann_counts_per_image, bins=min(max_anns_per_image, 25))\n",
    "plt.title(\"Annotations per Image Distribution \" + annFile.name)\n",
    "plt.xlabel(\"# Annotations per Image\", fontsize=12)\n",
    "plt.ylabel(\"# Images\", fontsize=12)\n",
    "plt.show()\n",
    "\n",
    "# To cover full annotations for `K_coverage`% of images, we need to use opt.K=:\n",
    "K_coverage = 99.9\n",
    "K_percentile = np.percentile(a=ann_counts_per_image, q=[99.9])\n",
    "print(\n",
    "    f\"To cover full annotations for {K_coverage}% of images, we need to use opt.K={int(K_percentile[0])}\"\n",
    ")\n"
   ]
  },
  {
   "cell_type": "markdown",
   "metadata": {},
   "source": [
    "## Plot Histogram of bbox areas (pixels^2):\n",
    "\n"
   ]
  },
  {
   "cell_type": "code",
   "execution_count": null,
   "metadata": {},
   "outputs": [],
   "source": [
    "def plot_bbox_area_histogram(areas):\n",
    "    print(f\"min area: {np.min(areas)}, max area: {np.max(areas)}, avg. area: {np.average(areas)}\")\n",
    "\n",
    "    # Configure histogram bins:\n",
    "    step_size = 100\n",
    "    bins = list(range(0, int(np.percentile(areas, 97.5)) + step_size, step_size))\n",
    "\n",
    "    # Plot:\n",
    "    fig_size, dpi, rotation = (14, 6), 80, 90\n",
    "    plt.figure(num=None, figsize=fig_size, dpi=dpi, facecolor=\"w\", edgecolor=\"k\")\n",
    "    plt.hist(areas, bins=bins)\n",
    "    plt.title(\"Object Size Distribution \" + annFile.name)\n",
    "    plt.xlabel(\"Area (pixels^2)\", fontsize=12)\n",
    "    plt.ylabel(\"# Annotations\", fontsize=12)\n",
    "    plt.show()"
   ]
  },
  {
   "cell_type": "code",
   "execution_count": null,
   "metadata": {},
   "outputs": [],
   "source": [
    "areas = [ann[\"bbox\"][2] * ann[\"bbox\"][3] for ann in anns]\n",
    "plot_bbox_area_histogram(areas)"
   ]
  },
  {
   "cell_type": "code",
   "execution_count": null,
   "metadata": {},
   "outputs": [],
   "source": [
    "# How many zero area boxes are there?\n",
    "print(list(sorted([a for a in areas if a <= 10])))\n",
    "# only 6 zero area, but a lot of small areas\n",
    "# plot_bbox_area_histogram(sorted([a for a in areas if a <= 10]))\n",
    "\n",
    "small_areas = list(sorted([a for a in areas if a <= 5000]))\n",
    "\n",
    "# Configure histogram bins:\n",
    "step_size = 5\n",
    "bins = list(range(0, int(np.percentile(small_areas, 97.5)) + step_size, step_size))\n",
    "# print(bins)\n",
    "\n",
    "# Plot:\n",
    "fig_size, dpi, rotation = (14, 6), 80, 90\n",
    "plt.figure(num=None, figsize=fig_size, dpi=dpi, facecolor=\"w\", edgecolor=\"k\")\n",
    "plt.hist(small_areas, bins)\n",
    "plt.title(\"Object Size Distribution \" + annFile.name)\n",
    "plt.xlabel(\"Area (pixels^2)\", fontsize=12)\n",
    "plt.ylabel(\"# Annotations\", fontsize=12)\n",
    "plt.show()"
   ]
  },
  {
   "cell_type": "markdown",
   "metadata": {},
   "source": [
    "## Calculate new pixels^2 cutoffs"
   ]
  },
  {
   "cell_type": "code",
   "execution_count": null,
   "metadata": {},
   "outputs": [],
   "source": [
    "print(\"Total annotations: \", len(areas))\n",
    "area_percentiles = np.percentile(a=areas, q=[33.33333, 66.66667])\n",
    "print(\"area percentiles: \", area_percentiles)\n",
    "print(f\"Using these cutoffs ({area_percentiles}) we get this many annotations in each group:\")\n",
    "print(\"Small:  \", len([a for a in areas if 0.0 <= a <= area_percentiles[0]]))\n",
    "print(\"Medium: \", len([a for a in areas if area_percentiles[0] < a <= area_percentiles[1]]))\n",
    "print(\"Large:  \", len([a for a in areas if area_percentiles[1] < a ]))\n"
   ]
  },
  {
   "cell_type": "markdown",
   "metadata": {},
   "source": [
    "## Inspect object center distribution\n",
    "\n",
    "E.g., where in the images are the bbox centers? "
   ]
  },
  {
   "cell_type": "code",
   "execution_count": null,
   "metadata": {},
   "outputs": [],
   "source": [
    "# xview chip size, if doing some other dataset you might have different image dims for each image, so be careful:\n",
    "img_size = (512.0, 512.0)  \n",
    "bbox_dims = [(ann[\"bbox\"][2], ann[\"bbox\"][3]) for ann in anns]\n",
    "bbox_centers = [\n",
    "    (int((ann[\"bbox\"][0] + ann[\"bbox\"][2] + ann[\"bbox\"][0]) / 2.0),\n",
    "    int((ann[\"bbox\"][1] + ann[\"bbox\"][3] + ann[\"bbox\"][1]) / 2.0))\n",
    "    for ann in anns\n",
    "]\n",
    "bbox_centers_normalized = [(c[0] / img_size[0], c[1] / img_size[1]) for c in bbox_centers]\n",
    "centers_x, centers_y = map(list, zip(*bbox_centers_normalized))\n",
    "\n",
    "\n",
    "import matplotlib.colors as mcolors\n",
    "\n",
    "fig_size, dpi, rotation = (14, 14), 80, 90\n",
    "plt.figure(num=None, figsize=fig_size, dpi=dpi, facecolor='w', edgecolor='k')\n",
    "plt.title('Bounding Box Center Locations')\n",
    "plt.hist2d(centers_x, centers_y, bins=10)\n",
    "plt.colorbar()\n",
    "plt.show()"
   ]
  },
  {
   "cell_type": "code",
   "execution_count": null,
   "metadata": {},
   "outputs": [],
   "source": [
    "fig_size, dpi, rotation = (14, 14), 80, 90\n",
    "plt.figure(num=None, figsize=fig_size, dpi=dpi, facecolor='w', edgecolor='k')\n",
    "plt.title('Bounding Box Center Locations - X')\n",
    "plt.hist(centers_y)\n",
    "plt.show()\n",
    "\n",
    "\n",
    "fig_size, dpi, rotation = (14, 14), 80, 90\n",
    "plt.figure(num=None, figsize=fig_size, dpi=dpi, facecolor='w', edgecolor='k')\n",
    "plt.title('Bounding Box Center Locations - Y')\n",
    "plt.hist(centers_x)\n",
    "plt.show()"
   ]
  },
  {
   "cell_type": "code",
   "execution_count": null,
   "metadata": {},
   "outputs": [],
   "source": [
    "len(centers_x)\n"
   ]
  },
  {
   "cell_type": "code",
   "execution_count": null,
   "metadata": {},
   "outputs": [],
   "source": []
  }
 ],
 "metadata": {
  "file_extension": ".py",
  "interpreter": {
   "hash": "f25de1fdb8860ccd78ae4a6bc6ddc2e646071ef4757069bfc8515cf3ee4502c1"
  },
  "kernelspec": {
   "display_name": "h4d_env",
   "language": "python",
   "name": "python3"
  },
  "language_info": {
   "codemirror_mode": {
    "name": "ipython",
    "version": 3
   },
   "file_extension": ".py",
   "mimetype": "text/x-python",
   "name": "python",
   "nbconvert_exporter": "python",
   "pygments_lexer": "ipython3",
   "version": "3.9.0"
  },
  "mimetype": "text/x-python",
  "name": "python",
  "npconvert_exporter": "python",
  "pygments_lexer": "ipython3",
  "version": 3
 },
 "nbformat": 4,
 "nbformat_minor": 4
}
