{
 "cells": [
  {
   "cell_type": "code",
   "execution_count": null,
   "metadata": {},
   "outputs": [],
   "source": [
    "%matplotlib inline\n",
    "%load_ext autoreload\n",
    "%autoreload 2"
   ]
  },
  {
   "cell_type": "code",
   "execution_count": null,
   "metadata": {},
   "outputs": [],
   "source": [
    "import os.path\n",
    "from pathlib import Path\n",
    "\n",
    "import matplotlib.pyplot as plt\n",
    "import numpy as np\n",
    "import pylab\n",
    "import skimage.io as io\n",
    "from pycocotools.coco import COCO\n",
    "\n",
    "pylab.rcParams[\"figure.figsize\"] = (18.0, 10.0)\n"
   ]
  },
  {
   "cell_type": "code",
   "execution_count": null,
   "metadata": {},
   "outputs": [],
   "source": [
    "annFile = Path(\"/home/gbiamby/proj/geoscreens/datasets/geoscreens_011/geoscreens_011.json\")\n",
    "img_dir = annFile.parent.parent / \"images\""
   ]
  },
  {
   "cell_type": "code",
   "execution_count": null,
   "metadata": {},
   "outputs": [],
   "source": [
    "# initialize COCO api for instance annotations\n",
    "coco=COCO(annFile)"
   ]
  },
  {
   "cell_type": "code",
   "execution_count": null,
   "metadata": {},
   "outputs": [],
   "source": [
    "# display COCO categories and supercategories\n",
    "cats = coco.loadCats(coco.getCatIds())\n",
    "categories = [cat['name'] for cat in cats]\n",
    "print(F\"COCO categories (count: {len(categories)}): \\n{categories}\\n\")\n"
   ]
  },
  {
   "cell_type": "code",
   "execution_count": null,
   "metadata": {},
   "outputs": [],
   "source": [
    "# get all images containing given categories, select one at random\n",
    "cat_ids = coco.getCatIds(catNms=[\"other\", ])\n",
    "print(f\"Category id's: {cat_ids}\")\n",
    "img_ids = coco.getImgIds(catIds=cat_ids)\n",
    "print(f\"img_ids: {img_ids}\")\n",
    "\n",
    "# img_ids = coco.getImgIds(imgIds = [324158])\n",
    "# img = coco.loadImgs(imgIds[np.random.randint(0,len(img_ids))])[0]"
   ]
  },
  {
   "cell_type": "code",
   "execution_count": null,
   "metadata": {},
   "outputs": [],
   "source": [
    "# for img_id in img_ids[:5]:\n",
    "img = coco.loadImgs(img_ids[np.random.randint(0,len(img_ids))])[0]"
   ]
  },
  {
   "cell_type": "code",
   "execution_count": null,
   "metadata": {},
   "outputs": [],
   "source": [
    "# load and display image\n",
    "# I = io.imread('%s/images/%s/%s'%(dataDir,dataType,img['file_name']))\n",
    "# use url to load image\n",
    "print(F\"Displaying image: {img}\")\n",
    "print(\"Img path: \" , img_dir / img['file_name'])\n",
    "I = io.imread(img_dir / img['file_name'])\n",
    "plt.axis('off')\n",
    "plt.imshow(I)\n",
    "plt.show()"
   ]
  },
  {
   "cell_type": "code",
   "execution_count": null,
   "metadata": {},
   "outputs": [],
   "source": [
    "# load and display instance annotations (only for the specified cat_ids)\n",
    "plt.imshow(I); plt.axis('off')\n",
    "annIds = coco.getAnnIds(imgIds=img['id'], catIds=cat_ids, iscrowd=None)\n",
    "anns = coco.loadAnns(annIds)\n",
    "print(\"Ann count: \", len(anns))\n",
    "coco.showAnns(anns)"
   ]
  },
  {
   "cell_type": "code",
   "execution_count": null,
   "metadata": {},
   "outputs": [],
   "source": [
    "# load and display instance annotations (for *all* cat_ids)\n",
    "plt.imshow(I)\n",
    "plt.axis(\"off\")\n",
    "annIds = coco.getAnnIds(imgIds=img[\"id\"], iscrowd=None)\n",
    "anns = coco.loadAnns(annIds)\n",
    "print(\"Ann count: \", len(anns))\n",
    "print(anns)\n",
    "coco.showAnns(anns, draw_bbox=True)"
   ]
  },
  {
   "cell_type": "code",
   "execution_count": null,
   "metadata": {},
   "outputs": [],
   "source": []
  },
  {
   "cell_type": "code",
   "execution_count": null,
   "metadata": {},
   "outputs": [],
   "source": []
  }
 ],
 "metadata": {
  "interpreter": {
   "hash": "7d8669c07ccf1d56a7d93e70de760c03e244a059da407aad80f65a4202a46f06"
  },
  "kernelspec": {
   "display_name": "h4d_env",
   "language": "python",
   "name": "python3"
  },
  "language_info": {
   "codemirror_mode": {
    "name": "ipython",
    "version": 3
   },
   "file_extension": ".py",
   "mimetype": "text/x-python",
   "name": "python",
   "nbconvert_exporter": "python",
   "pygments_lexer": "ipython3",
   "version": "3.9.0"
  }
 },
 "nbformat": 4,
 "nbformat_minor": 2
}
